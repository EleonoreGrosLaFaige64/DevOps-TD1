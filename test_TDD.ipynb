{
 "cells": [
  {
   "cell_type": "code",
   "execution_count": 94,
   "id": "33ebc29a",
   "metadata": {},
   "outputs": [
    {
     "name": "stdout",
     "output_type": "stream",
     "text": [
      "Collecting PyTest-ipynb\n",
      "  Downloading pytest-ipynb-1.1.1.tar.gz (3.7 kB)\n",
      "Requirement already satisfied: pytest in /home/cytech/anaconda3/lib/python3.8/site-packages (from PyTest-ipynb) (7.1.1)\n",
      "Collecting runipy\n",
      "  Downloading runipy-0.1.5.tar.gz (24 kB)\n",
      "Requirement already satisfied: attrs>=19.2.0 in /home/cytech/anaconda3/lib/python3.8/site-packages (from pytest->PyTest-ipynb) (21.4.0)\n",
      "Requirement already satisfied: iniconfig in /home/cytech/anaconda3/lib/python3.8/site-packages (from pytest->PyTest-ipynb) (1.1.1)\n",
      "Requirement already satisfied: packaging in /home/cytech/anaconda3/lib/python3.8/site-packages (from pytest->PyTest-ipynb) (21.3)\n",
      "Requirement already satisfied: pluggy<2.0,>=0.12 in /home/cytech/anaconda3/lib/python3.8/site-packages (from pytest->PyTest-ipynb) (1.0.0)\n",
      "Requirement already satisfied: py>=1.8.2 in /home/cytech/anaconda3/lib/python3.8/site-packages (from pytest->PyTest-ipynb) (1.11.0)\n",
      "Requirement already satisfied: tomli>=1.0.0 in /home/cytech/anaconda3/lib/python3.8/site-packages (from pytest->PyTest-ipynb) (1.2.2)\n",
      "Requirement already satisfied: pyparsing!=3.0.5,>=2.0.2 in /home/cytech/anaconda3/lib/python3.8/site-packages (from packaging->pytest->PyTest-ipynb) (3.0.4)\n",
      "Requirement already satisfied: Jinja2>=2.7.2 in /home/cytech/anaconda3/lib/python3.8/site-packages (from runipy->PyTest-ipynb) (3.0.3)\n",
      "Requirement already satisfied: Pygments>=1.6 in /home/cytech/anaconda3/lib/python3.8/site-packages (from runipy->PyTest-ipynb) (2.11.2)\n",
      "Requirement already satisfied: ipython>=2.3.1 in /home/cytech/anaconda3/lib/python3.8/site-packages (from runipy->PyTest-ipynb) (8.3.0)\n",
      "Requirement already satisfied: pyzmq>=14.1.0 in /home/cytech/anaconda3/lib/python3.8/site-packages (from runipy->PyTest-ipynb) (22.3.0)\n",
      "Requirement already satisfied: ipykernel>=4.0.0 in /home/cytech/anaconda3/lib/python3.8/site-packages (from runipy->PyTest-ipynb) (6.9.1)\n",
      "Requirement already satisfied: nbconvert>=4.0.0 in /home/cytech/anaconda3/lib/python3.8/site-packages (from runipy->PyTest-ipynb) (6.4.4)\n",
      "Requirement already satisfied: nbformat>=4.0.0 in /home/cytech/anaconda3/lib/python3.8/site-packages (from runipy->PyTest-ipynb) (5.3.0)\n",
      "Requirement already satisfied: debugpy<2.0,>=1.0.0 in /home/cytech/anaconda3/lib/python3.8/site-packages (from ipykernel>=4.0.0->runipy->PyTest-ipynb) (1.5.1)\n",
      "Requirement already satisfied: traitlets<6.0,>=5.1.0 in /home/cytech/anaconda3/lib/python3.8/site-packages (from ipykernel>=4.0.0->runipy->PyTest-ipynb) (5.1.1)\n",
      "Requirement already satisfied: jupyter-client<8.0 in /home/cytech/anaconda3/lib/python3.8/site-packages (from ipykernel>=4.0.0->runipy->PyTest-ipynb) (7.2.2)\n",
      "Requirement already satisfied: nest-asyncio in /home/cytech/anaconda3/lib/python3.8/site-packages (from ipykernel>=4.0.0->runipy->PyTest-ipynb) (1.5.5)\n",
      "Requirement already satisfied: matplotlib-inline<0.2.0,>=0.1.0 in /home/cytech/anaconda3/lib/python3.8/site-packages (from ipykernel>=4.0.0->runipy->PyTest-ipynb) (0.1.2)\n",
      "Requirement already satisfied: tornado<7.0,>=4.2 in /home/cytech/anaconda3/lib/python3.8/site-packages (from ipykernel>=4.0.0->runipy->PyTest-ipynb) (6.1)\n",
      "Requirement already satisfied: backcall in /home/cytech/anaconda3/lib/python3.8/site-packages (from ipython>=2.3.1->runipy->PyTest-ipynb) (0.2.0)\n",
      "Requirement already satisfied: jedi>=0.16 in /home/cytech/anaconda3/lib/python3.8/site-packages (from ipython>=2.3.1->runipy->PyTest-ipynb) (0.17.2)\n",
      "Requirement already satisfied: prompt-toolkit!=3.0.0,!=3.0.1,<3.1.0,>=2.0.0 in /home/cytech/anaconda3/lib/python3.8/site-packages (from ipython>=2.3.1->runipy->PyTest-ipynb) (3.0.20)\n",
      "Requirement already satisfied: pexpect>4.3 in /home/cytech/anaconda3/lib/python3.8/site-packages (from ipython>=2.3.1->runipy->PyTest-ipynb) (4.8.0)\n",
      "Requirement already satisfied: setuptools>=18.5 in /home/cytech/anaconda3/lib/python3.8/site-packages (from ipython>=2.3.1->runipy->PyTest-ipynb) (61.2.0)\n",
      "Requirement already satisfied: pickleshare in /home/cytech/anaconda3/lib/python3.8/site-packages (from ipython>=2.3.1->runipy->PyTest-ipynb) (0.7.5)\n",
      "Requirement already satisfied: decorator in /home/cytech/anaconda3/lib/python3.8/site-packages (from ipython>=2.3.1->runipy->PyTest-ipynb) (5.1.1)\n",
      "Requirement already satisfied: stack-data in /home/cytech/anaconda3/lib/python3.8/site-packages (from ipython>=2.3.1->runipy->PyTest-ipynb) (0.2.0)\n",
      "Requirement already satisfied: parso<0.8.0,>=0.7.0 in /home/cytech/anaconda3/lib/python3.8/site-packages (from jedi>=0.16->ipython>=2.3.1->runipy->PyTest-ipynb) (0.7.0)\n",
      "Requirement already satisfied: MarkupSafe>=2.0 in /home/cytech/anaconda3/lib/python3.8/site-packages (from Jinja2>=2.7.2->runipy->PyTest-ipynb) (2.0.1)\n",
      "Requirement already satisfied: entrypoints in /home/cytech/anaconda3/lib/python3.8/site-packages (from jupyter-client<8.0->ipykernel>=4.0.0->runipy->PyTest-ipynb) (0.4)\n",
      "Requirement already satisfied: python-dateutil>=2.8.2 in /home/cytech/anaconda3/lib/python3.8/site-packages (from jupyter-client<8.0->ipykernel>=4.0.0->runipy->PyTest-ipynb) (2.8.2)\n",
      "Requirement already satisfied: jupyter-core>=4.9.2 in /home/cytech/anaconda3/lib/python3.8/site-packages (from jupyter-client<8.0->ipykernel>=4.0.0->runipy->PyTest-ipynb) (4.10.0)\n",
      "Requirement already satisfied: jupyterlab-pygments in /home/cytech/anaconda3/lib/python3.8/site-packages (from nbconvert>=4.0.0->runipy->PyTest-ipynb) (0.1.2)\n",
      "Requirement already satisfied: pandocfilters>=1.4.1 in /home/cytech/anaconda3/lib/python3.8/site-packages (from nbconvert>=4.0.0->runipy->PyTest-ipynb) (1.5.0)\n",
      "Requirement already satisfied: testpath in /home/cytech/anaconda3/lib/python3.8/site-packages (from nbconvert>=4.0.0->runipy->PyTest-ipynb) (0.5.0)\n",
      "Requirement already satisfied: mistune<2,>=0.8.1 in /home/cytech/anaconda3/lib/python3.8/site-packages (from nbconvert>=4.0.0->runipy->PyTest-ipynb) (0.8.4)\n",
      "Requirement already satisfied: beautifulsoup4 in /home/cytech/anaconda3/lib/python3.8/site-packages (from nbconvert>=4.0.0->runipy->PyTest-ipynb) (4.11.1)\n",
      "Requirement already satisfied: defusedxml in /home/cytech/anaconda3/lib/python3.8/site-packages (from nbconvert>=4.0.0->runipy->PyTest-ipynb) (0.7.1)\n",
      "Requirement already satisfied: bleach in /home/cytech/anaconda3/lib/python3.8/site-packages (from nbconvert>=4.0.0->runipy->PyTest-ipynb) (4.1.0)\n",
      "Requirement already satisfied: nbclient<0.6.0,>=0.5.0 in /home/cytech/anaconda3/lib/python3.8/site-packages (from nbconvert>=4.0.0->runipy->PyTest-ipynb) (0.5.13)\n",
      "Requirement already satisfied: fastjsonschema in /home/cytech/anaconda3/lib/python3.8/site-packages (from nbformat>=4.0.0->runipy->PyTest-ipynb) (2.15.1)\n",
      "Requirement already satisfied: jsonschema>=2.6 in /home/cytech/anaconda3/lib/python3.8/site-packages (from nbformat>=4.0.0->runipy->PyTest-ipynb) (4.4.0)\n",
      "Requirement already satisfied: importlib-resources>=1.4.0 in /home/cytech/anaconda3/lib/python3.8/site-packages (from jsonschema>=2.6->nbformat>=4.0.0->runipy->PyTest-ipynb) (5.2.0)\n",
      "Requirement already satisfied: pyrsistent!=0.17.0,!=0.17.1,!=0.17.2,>=0.14.0 in /home/cytech/anaconda3/lib/python3.8/site-packages (from jsonschema>=2.6->nbformat>=4.0.0->runipy->PyTest-ipynb) (0.18.0)\n",
      "Requirement already satisfied: zipp>=3.1.0 in /home/cytech/anaconda3/lib/python3.8/site-packages (from importlib-resources>=1.4.0->jsonschema>=2.6->nbformat>=4.0.0->runipy->PyTest-ipynb) (3.8.0)\n",
      "Requirement already satisfied: ptyprocess>=0.5 in /home/cytech/anaconda3/lib/python3.8/site-packages (from pexpect>4.3->ipython>=2.3.1->runipy->PyTest-ipynb) (0.7.0)\n",
      "Requirement already satisfied: wcwidth in /home/cytech/anaconda3/lib/python3.8/site-packages (from prompt-toolkit!=3.0.0,!=3.0.1,<3.1.0,>=2.0.0->ipython>=2.3.1->runipy->PyTest-ipynb) (0.2.5)\n",
      "Requirement already satisfied: six>=1.5 in /home/cytech/anaconda3/lib/python3.8/site-packages (from python-dateutil>=2.8.2->jupyter-client<8.0->ipykernel>=4.0.0->runipy->PyTest-ipynb) (1.16.0)\n",
      "Requirement already satisfied: soupsieve>1.2 in /home/cytech/anaconda3/lib/python3.8/site-packages (from beautifulsoup4->nbconvert>=4.0.0->runipy->PyTest-ipynb) (2.3.1)\n",
      "Requirement already satisfied: webencodings in /home/cytech/anaconda3/lib/python3.8/site-packages (from bleach->nbconvert>=4.0.0->runipy->PyTest-ipynb) (0.5.1)\n"
     ]
    },
    {
     "name": "stdout",
     "output_type": "stream",
     "text": [
      "Requirement already satisfied: asttokens in /home/cytech/anaconda3/lib/python3.8/site-packages (from stack-data->ipython>=2.3.1->runipy->PyTest-ipynb) (2.0.5)\n",
      "Requirement already satisfied: executing in /home/cytech/anaconda3/lib/python3.8/site-packages (from stack-data->ipython>=2.3.1->runipy->PyTest-ipynb) (0.8.3)\n",
      "Requirement already satisfied: pure-eval in /home/cytech/anaconda3/lib/python3.8/site-packages (from stack-data->ipython>=2.3.1->runipy->PyTest-ipynb) (0.2.2)\n",
      "Building wheels for collected packages: PyTest-ipynb, runipy\n",
      "  Building wheel for PyTest-ipynb (setup.py) ... \u001b[?25ldone\n",
      "\u001b[?25h  Created wheel for PyTest-ipynb: filename=pytest_ipynb-1.1.1-py3-none-any.whl size=4148 sha256=e6e1bc1dd7a26fb8c71c43d9ec9a7a4123fd0601e67ced6f3bef66006dabb27c\n",
      "  Stored in directory: /home/cytech/.cache/pip/wheels/1f/54/29/6042f08153d5482f1b38cacc5e62df4f4efc615629d8c68d14\n",
      "  Building wheel for runipy (setup.py) ... \u001b[?25ldone\n",
      "\u001b[?25h  Created wheel for runipy: filename=runipy-0.1.5-py3-none-any.whl size=10147 sha256=da843d3eb6d98ae9d386b4b0f2fc8ba4ccd441c0a3bbba7b4caeceeb678817be\n",
      "  Stored in directory: /home/cytech/.cache/pip/wheels/2b/e1/ee/e4f98e75f00bc7484da4d7ec6d2a89ce621658b664923b9d32\n",
      "Successfully built PyTest-ipynb runipy\n",
      "Installing collected packages: runipy, PyTest-ipynb\n",
      "Successfully installed PyTest-ipynb-1.1.1 runipy-0.1.5\n"
     ]
    }
   ],
   "source": [
    "!pip install PyTest-ipynb"
   ]
  },
  {
   "cell_type": "code",
   "execution_count": 78,
   "id": "a1662571",
   "metadata": {},
   "outputs": [],
   "source": [
    "import pytest\n",
    "import matplotlib\n",
    "import matplotlib.pyplot as plt\n",
    "from matplotlib.patches import Rectangle\n",
    "import random\n",
    "from math import sqrt"
   ]
  },
  {
   "cell_type": "code",
   "execution_count": 73,
   "id": "1b54aba6",
   "metadata": {},
   "outputs": [
    {
     "data": {
      "image/png": "[encoded data removed]",
      "text/plain": [
       "<Figure size 432x288 with 1 Axes>"
      ]
     },
     "metadata": {
      "needs_background": "light"
     },
     "output_type": "display_data"
    }
   ],
   "source": [
    "#faire un triangle\n",
    "\n",
    "import matplotlib.patches as patches\n",
    "import matplotlib.pyplot as plt\n",
    "fig = plt.figure()\n",
    "ax = fig.gca()\n",
    "path = [\n",
    "    [0, 0.5],\n",
    "    [0, 0],\n",
    "    [0.5,0],\n",
    "]\n",
    "ax.add_patch(patches.Polygon(path))\n",
    "\n",
    "plt.xlim([-1, 1])\n",
    "plt.ylim([-1, 1])\n",
    "  \n",
    "plt.show()"
   ]
  },
  {
   "cell_type": "code",
   "execution_count": 65,
   "id": "861ad106",
   "metadata": {},
   "outputs": [],
   "source": [
    "# verifie que c'est bien un triangle\n",
    "'''\n",
    "Avec a =(xa,ya)\n",
    "b=(xb,yb) et c=(xc,yc)\n",
    "'''\n",
    "def isCoherent(a,b,c):\n",
    "    res = True\n",
    "    #Verifie que les trois points n'aient pas les mêmes coord\n",
    "    if(a[0]==b[0])and (a[0]==c[0]) and (c[0]==b[0]) and (a[1]==b[1]) and (a[1]==c[1]) and (c[1]==b[1]):\n",
    "        res=False\n",
    "      #Verifie que  deux points n'aient pas les mêmes coord  \n",
    "    if(a[0]==b[0])and (a[1]==b[1]):\n",
    "        res=False\n",
    "    if(c[0]==b[0])and (c[1]==b[1]):\n",
    "        res=False\n",
    "    if(a[0]==c[0])and (a[1]==c[1]):\n",
    "        res=False\n",
    "    #Verfifie que les alignements points ne soient pas alignées\n",
    "    xVectAB=b[0]-a[0]\n",
    "\n",
    "    yVectAB=b[1]-a[1]\n",
    "\n",
    "    xVectAC=c[1]-a[0]\n",
    "\n",
    "    yVectAC=c[1]-a[1]\n",
    "\n",
    "    if(xVectAB*yVectAC-xVectAC*yVectAB==0):\n",
    "        res=False\n",
    "    else :\n",
    "        res = True\n",
    "    \n",
    "    return res\n",
    "     "
   ]
  },
  {
   "cell_type": "code",
   "execution_count": 74,
   "id": "3d66dceb",
   "metadata": {},
   "outputs": [],
   "source": [
    "#Verifie que c'est bien un Triangle en fonction des longeurs\n",
    "'''\n",
    "a=longueur de ab\n",
    "b=longueur de bc\n",
    "c=longueur de ca\n",
    "'''\n",
    "def  isCoherentLong(a,b,c):\n",
    "    res=True\n",
    "    if a < (b+c) and b < (a+c) and c < (a+b) : \n",
    "        res= True\n",
    "    else: \n",
    "        res=False\n",
    "    return res\n",
    "\n"
   ]
  },
  {
   "cell_type": "code",
   "execution_count": 79,
   "id": "5858ffb7",
   "metadata": {},
   "outputs": [
    {
     "name": "stdout",
     "output_type": "stream",
     "text": [
      "Est coherent avec les points True\n",
      "Est coherent avec les longueurs True\n"
     ]
    }
   ],
   "source": [
    "#Avec les points\n",
    "a=[2, 7.5]\n",
    "b=[1, 4]\n",
    "c=[0, 3]\n",
    "print(\"Est coherent avec les points\",isCoherent(a,b,c))\n",
    "\n",
    "#Avec les longueurs\n",
    "ab=(sqrt((b[1]-a[1])**2+(b[0]-a[0])**2))\n",
    "bc=(sqrt((c[1]-b[1])**2+(c[0]-b[0])**2))\n",
    "ca=(sqrt((c[1]-a[1])**2+(c[0]-a[0])**2))\n",
    "print(\"Est coherent avec les longueurs\",isCoherentLong(ab,bc,ca))\n"
   ]
  },
  {
   "cell_type": "code",
   "execution_count": 81,
   "id": "13bd4372",
   "metadata": {},
   "outputs": [],
   "source": [
    "# verifie que c'est bien  iso\n",
    "'''\n",
    "a=longueur de ab\n",
    "b=longueur de bc\n",
    "c=longueur de ca\n",
    "'''\n",
    "def isIsosceles(a,b,c):\n",
    "    if a == b or b == c or c == a : \n",
    "        return True\n",
    "    return False"
   ]
  },
  {
   "cell_type": "code",
   "execution_count": 82,
   "id": "0b00e35b",
   "metadata": {},
   "outputs": [],
   "source": [
    "# verifie que c'est bien équilateral\n",
    "'''\n",
    "a=longueur de ab\n",
    "b=longueur de bc\n",
    "c=longueur de ca\n",
    "'''\n",
    "def isEquilateral(a,b,c):\n",
    "    if a == b and b == c : \n",
    "        return True\n",
    "    return False"
   ]
  },
  {
   "cell_type": "code",
   "execution_count": 83,
   "id": "1c9569a2",
   "metadata": {},
   "outputs": [],
   "source": [
    "## verifie que c'est bien un rectangle\n",
    "'''\n",
    "a=longueur de ab\n",
    "b=longueur de bc\n",
    "c=longueur de ca\n",
    "'''\n",
    "\n",
    "def isRectangle(a,b,c):\n",
    "    if a*a + b*b == c*c or b*b + c*c == a*a or c*c + a*a == b*b : \n",
    "        return True\n",
    "    return False"
   ]
  },
  {
   "cell_type": "code",
   "execution_count": 90,
   "id": "7a10d8af",
   "metadata": {},
   "outputs": [
    {
     "name": "stdout",
     "output_type": "stream",
     "text": [
      "Est rectangle True\n",
      "Est isocele False\n",
      "Est Equilateral False\n"
     ]
    }
   ],
   "source": [
    "\n",
    "print(\"Est rectangle\",isRectangle(5,12,13))\n",
    "print(\"Est isocele\", isIsosceles(5,11,12))\n",
    "print(\"Est Equilateral\",isEquilateral(7,5,5))"
   ]
  },
  {
   "cell_type": "code",
   "execution_count": 91,
   "id": "9f470091",
   "metadata": {},
   "outputs": [],
   "source": [
    "def test_answer_Iso():\n",
    "    assert isIsosceles(5,11,12)==False"
   ]
  },
  {
   "cell_type": "code",
   "execution_count": 97,
   "id": "0f4b58b6",
   "metadata": {},
   "outputs": [
    {
     "name": "stdout",
     "output_type": "stream",
     "text": [
      "Traceback (most recent call last):\r\n",
      "  File \"/home/cytech/anaconda3/lib/python3.8/site-packages/runipy/notebook_runner.py\", line 27, in <module>\r\n",
      "    from IPython.kernel import KernelManager\r\n",
      "ModuleNotFoundError: No module named 'IPython.kernel'\r\n",
      "\r\n",
      "During handling of the above exception, another exception occurred:\r\n",
      "\r\n",
      "Traceback (most recent call last):\r\n",
      "  File \"/home/cytech/anaconda3/bin/py.test\", line 11, in <module>\r\n",
      "    sys.exit(console_main())\r\n",
      "  File \"/home/cytech/anaconda3/lib/python3.8/site-packages/_pytest/config/__init__.py\", line 187, in console_main\r\n",
      "    code = main()\r\n",
      "  File \"/home/cytech/anaconda3/lib/python3.8/site-packages/_pytest/config/__init__.py\", line 145, in main\r\n",
      "    config = _prepareconfig(args, plugins)\r\n",
      "  File \"/home/cytech/anaconda3/lib/python3.8/site-packages/_pytest/config/__init__.py\", line 324, in _prepareconfig\r\n",
      "    config = pluginmanager.hook.pytest_cmdline_parse(\r\n",
      "  File \"/home/cytech/anaconda3/lib/python3.8/site-packages/pluggy/_hooks.py\", line 265, in __call__\r\n",
      "    return self._hookexec(self.name, self.get_hookimpls(), kwargs, firstresult)\r\n",
      "  File \"/home/cytech/anaconda3/lib/python3.8/site-packages/pluggy/_manager.py\", line 80, in _hookexec\r\n",
      "    return self._inner_hookexec(hook_name, methods, kwargs, firstresult)\r\n",
      "  File \"/home/cytech/anaconda3/lib/python3.8/site-packages/pluggy/_callers.py\", line 55, in _multicall\r\n",
      "    gen.send(outcome)\r\n",
      "  File \"/home/cytech/anaconda3/lib/python3.8/site-packages/_pytest/helpconfig.py\", line 102, in pytest_cmdline_parse\r\n",
      "    config: Config = outcome.get_result()\r\n",
      "  File \"/home/cytech/anaconda3/lib/python3.8/site-packages/pluggy/_result.py\", line 60, in get_result\r\n",
      "    raise ex[1].with_traceback(ex[2])\r\n",
      "  File \"/home/cytech/anaconda3/lib/python3.8/site-packages/pluggy/_callers.py\", line 39, in _multicall\r\n",
      "    res = hook_impl.function(*args)\r\n",
      "  File \"/home/cytech/anaconda3/lib/python3.8/site-packages/_pytest/config/__init__.py\", line 1016, in pytest_cmdline_parse\r\n",
      "    self.parse(args)\r\n",
      "  File \"/home/cytech/anaconda3/lib/python3.8/site-packages/_pytest/config/__init__.py\", line 1304, in parse\r\n",
      "    self._preparse(args, addopts=addopts)\r\n",
      "  File \"/home/cytech/anaconda3/lib/python3.8/site-packages/_pytest/config/__init__.py\", line 1187, in _preparse\r\n",
      "    self.pluginmanager.load_setuptools_entrypoints(\"pytest11\")\r\n",
      "  File \"/home/cytech/anaconda3/lib/python3.8/site-packages/pluggy/_manager.py\", line 287, in load_setuptools_entrypoints\r\n",
      "    plugin = ep.load()\r\n",
      "  File \"/home/cytech/anaconda3/lib/python3.8/importlib/metadata.py\", line 77, in load\r\n",
      "    module = import_module(match.group('module'))\r\n",
      "  File \"/home/cytech/anaconda3/lib/python3.8/importlib/__init__.py\", line 127, in import_module\r\n",
      "    return _bootstrap._gcd_import(name[level:], package, level)\r\n",
      "  File \"<frozen importlib._bootstrap>\", line 1014, in _gcd_import\r\n",
      "  File \"<frozen importlib._bootstrap>\", line 991, in _find_and_load\r\n",
      "  File \"<frozen importlib._bootstrap>\", line 975, in _find_and_load_unlocked\r\n",
      "  File \"<frozen importlib._bootstrap>\", line 671, in _load_unlocked\r\n",
      "  File \"/home/cytech/anaconda3/lib/python3.8/site-packages/_pytest/assertion/rewrite.py\", line 168, in exec_module\r\n",
      "    exec(co, module.__dict__)\r\n",
      "  File \"/home/cytech/anaconda3/lib/python3.8/site-packages/pytest_ipynb/plugin.py\", line 9, in <module>\r\n",
      "    from runipy.notebook_runner import NotebookRunner\r\n",
      "  File \"/home/cytech/anaconda3/lib/python3.8/site-packages/runipy/notebook_runner.py\", line 35, in <module>\r\n",
      "    from IPython.kernel import KernelManager\r\n",
      "ModuleNotFoundError: No module named 'IPython.kernel'\r\n"
     ]
    }
   ],
   "source": [
    "!pytest test_TDD.ipynb"
   ]
  },
  {
   "cell_type": "code",
   "execution_count": null,
   "id": "8b7b88ce",
   "metadata": {},
   "outputs": [],
   "source": []
  }
 ],
 "metadata": {
  "kernelspec": {
   "display_name": "Python 3 (ipykernel)",
   "language": "python",
   "name": "python3"
  },
  "language_info": {
   "codemirror_mode": {
    "name": "ipython",
    "version": 3
   },
   "file_extension": ".py",
   "mimetype": "text/x-python",
   "name": "python",
   "nbconvert_exporter": "python",
   "pygments_lexer": "ipython3",
   "version": "3.8.12"
  }
 },
 "nbformat": 4,
 "nbformat_minor": 5
}
